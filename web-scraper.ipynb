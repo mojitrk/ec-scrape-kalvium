{
 "cells": [
  {
   "cell_type": "code",
   "execution_count": 42,
   "metadata": {},
   "outputs": [
    {
     "name": "stdout",
     "output_type": "stream",
     "text": [
      "Requirement already satisfied: requests in d:\\development\\ec-scrape-kalvium\\.conda\\lib\\site-packages (2.32.3)\n",
      "Requirement already satisfied: charset-normalizer<4,>=2 in d:\\development\\ec-scrape-kalvium\\.conda\\lib\\site-packages (from requests) (3.3.2)\n",
      "Requirement already satisfied: idna<4,>=2.5 in d:\\development\\ec-scrape-kalvium\\.conda\\lib\\site-packages (from requests) (3.7)\n",
      "Requirement already satisfied: urllib3<3,>=1.21.1 in d:\\development\\ec-scrape-kalvium\\.conda\\lib\\site-packages (from requests) (2.2.2)\n",
      "Requirement already satisfied: certifi>=2017.4.17 in d:\\development\\ec-scrape-kalvium\\.conda\\lib\\site-packages (from requests) (2024.6.2)\n",
      "Note: you may need to restart the kernel to use updated packages.\n",
      "Requirement already satisfied: beautifulsoup4 in d:\\development\\ec-scrape-kalvium\\.conda\\lib\\site-packages (4.12.3)\n",
      "Requirement already satisfied: soupsieve>1.2 in d:\\development\\ec-scrape-kalvium\\.conda\\lib\\site-packages (from beautifulsoup4) (2.5)\n",
      "Note: you may need to restart the kernel to use updated packages.\n",
      "Requirement already satisfied: pandas in d:\\development\\ec-scrape-kalvium\\.conda\\lib\\site-packages (2.2.2)\n",
      "Requirement already satisfied: numpy>=1.23.2 in d:\\development\\ec-scrape-kalvium\\.conda\\lib\\site-packages (from pandas) (2.0.0)\n",
      "Requirement already satisfied: python-dateutil>=2.8.2 in d:\\development\\ec-scrape-kalvium\\.conda\\lib\\site-packages (from pandas) (2.9.0)\n",
      "Requirement already satisfied: pytz>=2020.1 in d:\\development\\ec-scrape-kalvium\\.conda\\lib\\site-packages (from pandas) (2024.1)\n",
      "Requirement already satisfied: tzdata>=2022.7 in d:\\development\\ec-scrape-kalvium\\.conda\\lib\\site-packages (from pandas) (2024.1)\n",
      "Requirement already satisfied: six>=1.5 in d:\\development\\ec-scrape-kalvium\\.conda\\lib\\site-packages (from python-dateutil>=2.8.2->pandas) (1.16.0)\n",
      "Note: you may need to restart the kernel to use updated packages.\n",
      "Collecting lxml\n",
      "  Downloading lxml-5.2.2-cp311-cp311-win_amd64.whl.metadata (3.5 kB)\n",
      "Downloading lxml-5.2.2-cp311-cp311-win_amd64.whl (3.8 MB)\n",
      "   ---------------------------------------- 0.0/3.8 MB ? eta -:--:--\n",
      "   ---------------------------------------- 0.0/3.8 MB ? eta -:--:--\n",
      "   - -------------------------------------- 0.2/3.8 MB 2.6 MB/s eta 0:00:02\n",
      "   ------- -------------------------------- 0.7/3.8 MB 7.3 MB/s eta 0:00:01\n",
      "   --------------- ------------------------ 1.5/3.8 MB 10.3 MB/s eta 0:00:01\n",
      "   --------------------- ------------------ 2.1/3.8 MB 11.1 MB/s eta 0:00:01\n",
      "   -------------------------------- ------- 3.1/3.8 MB 13.4 MB/s eta 0:00:01\n",
      "   ----------------------------------- ---- 3.4/3.8 MB 11.9 MB/s eta 0:00:01\n",
      "   ---------------------------------------  3.8/3.8 MB 12.2 MB/s eta 0:00:01\n",
      "   ---------------------------------------- 3.8/3.8 MB 11.1 MB/s eta 0:00:00\n",
      "Installing collected packages: lxml\n",
      "Successfully installed lxml-5.2.2\n",
      "Note: you may need to restart the kernel to use updated packages.\n"
     ]
    }
   ],
   "source": [
    "#for prereq lib installs on miniconda env\n",
    "%pip install requests\n",
    "%pip install beautifulsoup4\n",
    "%pip install pandas\n",
    "%pip install lxml"
   ]
  },
  {
   "cell_type": "code",
   "execution_count": 3,
   "metadata": {},
   "outputs": [],
   "source": [
    "import requests\n",
    "from bs4 import BeautifulSoup\n",
    "import pandas as pd"
   ]
  },
  {
   "cell_type": "markdown",
   "metadata": {},
   "source": [
    "### Overall Party Results"
   ]
  },
  {
   "cell_type": "code",
   "execution_count": 48,
   "metadata": {},
   "outputs": [],
   "source": [
    "#generating csv for overall party results\n",
    "homeurl = \"https://results.eci.gov.in/PcResultGenJune2024/index.htm\"\n",
    "homepage = requests.get(homeurl)\n",
    "homesoup = BeautifulSoup(homepage.text,\"html.parser\")\n",
    "\n",
    "\n",
    "t = homesoup.find('table', class_='table')\n",
    "h = t.find('thead')\n",
    "hr = h.find_all('th')\n",
    "hdr = [th.text.strip() for th in hr]\n",
    "f = t.find('tfoot')\n",
    "fr = f.find_all('th')\n",
    "ftr = [th.text.strip() for th in fr]\n",
    "t = homesoup.find(\"tbody\")\n",
    "rows = t.find_all(\"tr\")\n",
    "\n",
    "pname = []\n",
    "wseats = []\n",
    "pshort=[]\n",
    "\n",
    "for row in rows:\n",
    "    cols = row.find_all('td')\n",
    "    pname.append(\" \".join(cols[0].text.strip().split()[:-2]))\n",
    "    pshort.append(cols[0].text.strip().split()[-1])\n",
    "    wseats.append(cols[1].text.strip()) \n",
    "\n",
    "overallres = pd.DataFrame({ 'Party Name': pname, 'Shortform': pshort, 'Winning Seats': wseats})\n",
    "\n",
    "overallres.to_csv('data/total-party-results.csv', index=False)"
   ]
  },
  {
   "cell_type": "markdown",
   "metadata": {},
   "source": [
    "### Per State Results"
   ]
  },
  {
   "cell_type": "code",
   "execution_count": 65,
   "metadata": {},
   "outputs": [],
   "source": [
    "sres = {}\n",
    "\n",
    "for i in range(len(scode)):\n",
    "    url = \"https://results.eci.gov.in/PcResultGenJune2024/partywiseresult-\" + scode[i] + \".htm\"\n",
    "    df = pd.read_html(url)[0]\n",
    "    info = {}\n",
    "    for j in range(df.shape[0]):\n",
    "        if j >= 3: break\n",
    "        if df['Party'][j] == \"Total\": continue\n",
    "        info[df['Party'][j]] = df['Won'][j]\n",
    "    sres[states[i]] = info\n",
    "\n",
    "stateres = pd.DataFrame(sres)\n",
    "stateres.to_csv('data/state-results.csv', index=False)"
   ]
  }
 ],
 "metadata": {
  "kernelspec": {
   "display_name": "Python 3",
   "language": "python",
   "name": "python3"
  },
  "language_info": {
   "codemirror_mode": {
    "name": "ipython",
    "version": 3
   },
   "file_extension": ".py",
   "mimetype": "text/x-python",
   "name": "python",
   "nbconvert_exporter": "python",
   "pygments_lexer": "ipython3",
   "version": "3.11.9"
  }
 },
 "nbformat": 4,
 "nbformat_minor": 2
}

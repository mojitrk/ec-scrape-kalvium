{
 "cells": [
  {
   "cell_type": "code",
   "execution_count": 12,
   "metadata": {},
   "outputs": [
    {
     "name": "stdout",
     "output_type": "stream",
     "text": [
      "Collecting sweetviz\n",
      "  Using cached sweetviz-2.3.1-py3-none-any.whl.metadata (24 kB)\n",
      "Requirement already satisfied: pandas!=1.0.0,!=1.0.1,!=1.0.2,>=0.25.3 in d:\\development\\ec-scrape-kalvium\\.conda\\lib\\site-packages (from sweetviz) (2.2.2)\n",
      "Requirement already satisfied: numpy>=1.16.0 in d:\\development\\ec-scrape-kalvium\\.conda\\lib\\site-packages (from sweetviz) (1.26.4)\n",
      "Requirement already satisfied: matplotlib>=3.1.3 in d:\\development\\ec-scrape-kalvium\\.conda\\lib\\site-packages (from sweetviz) (3.8.4)\n",
      "Requirement already satisfied: tqdm>=4.43.0 in d:\\development\\ec-scrape-kalvium\\.conda\\lib\\site-packages (from sweetviz) (4.66.4)\n",
      "Requirement already satisfied: scipy>=1.3.2 in d:\\development\\ec-scrape-kalvium\\.conda\\lib\\site-packages (from sweetviz) (1.13.1)\n",
      "Requirement already satisfied: jinja2>=2.11.1 in d:\\development\\ec-scrape-kalvium\\.conda\\lib\\site-packages (from sweetviz) (3.1.4)\n",
      "Requirement already satisfied: importlib-resources>=1.2.0 in d:\\development\\ec-scrape-kalvium\\.conda\\lib\\site-packages (from sweetviz) (6.4.0)\n",
      "Requirement already satisfied: MarkupSafe>=2.0 in d:\\development\\ec-scrape-kalvium\\.conda\\lib\\site-packages (from jinja2>=2.11.1->sweetviz) (2.1.5)\n",
      "Requirement already satisfied: contourpy>=1.0.1 in d:\\development\\ec-scrape-kalvium\\.conda\\lib\\site-packages (from matplotlib>=3.1.3->sweetviz) (1.2.1)\n",
      "Requirement already satisfied: cycler>=0.10 in d:\\development\\ec-scrape-kalvium\\.conda\\lib\\site-packages (from matplotlib>=3.1.3->sweetviz) (0.12.1)\n",
      "Requirement already satisfied: fonttools>=4.22.0 in d:\\development\\ec-scrape-kalvium\\.conda\\lib\\site-packages (from matplotlib>=3.1.3->sweetviz) (4.53.0)\n",
      "Requirement already satisfied: kiwisolver>=1.3.1 in d:\\development\\ec-scrape-kalvium\\.conda\\lib\\site-packages (from matplotlib>=3.1.3->sweetviz) (1.4.5)\n",
      "Requirement already satisfied: packaging>=20.0 in d:\\development\\ec-scrape-kalvium\\.conda\\lib\\site-packages (from matplotlib>=3.1.3->sweetviz) (24.1)\n",
      "Requirement already satisfied: pillow>=8 in d:\\development\\ec-scrape-kalvium\\.conda\\lib\\site-packages (from matplotlib>=3.1.3->sweetviz) (10.3.0)\n",
      "Requirement already satisfied: pyparsing>=2.3.1 in d:\\development\\ec-scrape-kalvium\\.conda\\lib\\site-packages (from matplotlib>=3.1.3->sweetviz) (3.1.2)\n",
      "Requirement already satisfied: python-dateutil>=2.7 in d:\\development\\ec-scrape-kalvium\\.conda\\lib\\site-packages (from matplotlib>=3.1.3->sweetviz) (2.9.0)\n",
      "Requirement already satisfied: pytz>=2020.1 in d:\\development\\ec-scrape-kalvium\\.conda\\lib\\site-packages (from pandas!=1.0.0,!=1.0.1,!=1.0.2,>=0.25.3->sweetviz) (2024.1)\n",
      "Requirement already satisfied: tzdata>=2022.7 in d:\\development\\ec-scrape-kalvium\\.conda\\lib\\site-packages (from pandas!=1.0.0,!=1.0.1,!=1.0.2,>=0.25.3->sweetviz) (2024.1)\n",
      "Requirement already satisfied: colorama in d:\\development\\ec-scrape-kalvium\\.conda\\lib\\site-packages (from tqdm>=4.43.0->sweetviz) (0.4.6)\n",
      "Requirement already satisfied: six>=1.5 in d:\\development\\ec-scrape-kalvium\\.conda\\lib\\site-packages (from python-dateutil>=2.7->matplotlib>=3.1.3->sweetviz) (1.16.0)\n",
      "Using cached sweetviz-2.3.1-py3-none-any.whl (15.1 MB)\n",
      "Installing collected packages: sweetviz\n",
      "Note: you may need to restart the kernel to use updated packages.\n"
     ]
    },
    {
     "name": "stderr",
     "output_type": "stream",
     "text": [
      "WARNING: Ignoring invalid distribution ~weetviz (d:\\Development\\ec-scrape-kalvium\\.conda\\Lib\\site-packages)\n",
      "WARNING: Ignoring invalid distribution ~weetviz (d:\\Development\\ec-scrape-kalvium\\.conda\\Lib\\site-packages)\n",
      "ERROR: Could not install packages due to an OSError: [WinError 32] The process cannot access the file because it is being used by another process: 'd:\\\\Development\\\\ec-scrape-kalvium\\\\.conda\\\\Lib\\\\site-packages\\\\sweetviz\\\\fonts\\\\Roboto-Medium.ttf'\n",
      "Consider using the `--user` option or check the permissions.\n",
      "\n"
     ]
    },
    {
     "name": "stdout",
     "output_type": "stream",
     "text": [
      "Requirement already satisfied: numpy in d:\\development\\ec-scrape-kalvium\\.conda\\lib\\site-packages (1.26.4)\n",
      "Note: you may need to restart the kernel to use updated packages.\n"
     ]
    },
    {
     "name": "stderr",
     "output_type": "stream",
     "text": [
      "WARNING: Ignoring invalid distribution ~weetviz (d:\\Development\\ec-scrape-kalvium\\.conda\\Lib\\site-packages)\n",
      "WARNING: Ignoring invalid distribution ~weetviz (d:\\Development\\ec-scrape-kalvium\\.conda\\Lib\\site-packages)\n"
     ]
    },
    {
     "name": "stdout",
     "output_type": "stream",
     "text": [
      "Requirement already satisfied: ipywidgets in d:\\development\\ec-scrape-kalvium\\.conda\\lib\\site-packages (8.1.3)\n",
      "Requirement already satisfied: comm>=0.1.3 in d:\\development\\ec-scrape-kalvium\\.conda\\lib\\site-packages (from ipywidgets) (0.2.2)\n",
      "Requirement already satisfied: ipython>=6.1.0 in d:\\development\\ec-scrape-kalvium\\.conda\\lib\\site-packages (from ipywidgets) (8.26.0)\n",
      "Requirement already satisfied: traitlets>=4.3.1 in d:\\development\\ec-scrape-kalvium\\.conda\\lib\\site-packages (from ipywidgets) (5.14.3)\n",
      "Requirement already satisfied: widgetsnbextension~=4.0.11 in d:\\development\\ec-scrape-kalvium\\.conda\\lib\\site-packages (from ipywidgets) (4.0.11)\n",
      "Requirement already satisfied: jupyterlab-widgets~=3.0.11 in d:\\development\\ec-scrape-kalvium\\.conda\\lib\\site-packages (from ipywidgets) (3.0.11)\n",
      "Requirement already satisfied: decorator in d:\\development\\ec-scrape-kalvium\\.conda\\lib\\site-packages (from ipython>=6.1.0->ipywidgets) (5.1.1)\n",
      "Requirement already satisfied: jedi>=0.16 in d:\\development\\ec-scrape-kalvium\\.conda\\lib\\site-packages (from ipython>=6.1.0->ipywidgets) (0.19.1)\n",
      "Requirement already satisfied: matplotlib-inline in d:\\development\\ec-scrape-kalvium\\.conda\\lib\\site-packages (from ipython>=6.1.0->ipywidgets) (0.1.7)\n",
      "Requirement already satisfied: prompt-toolkit<3.1.0,>=3.0.41 in d:\\development\\ec-scrape-kalvium\\.conda\\lib\\site-packages (from ipython>=6.1.0->ipywidgets) (3.0.47)\n",
      "Requirement already satisfied: pygments>=2.4.0 in d:\\development\\ec-scrape-kalvium\\.conda\\lib\\site-packages (from ipython>=6.1.0->ipywidgets) (2.18.0)\n",
      "Requirement already satisfied: stack-data in d:\\development\\ec-scrape-kalvium\\.conda\\lib\\site-packages (from ipython>=6.1.0->ipywidgets) (0.6.2)\n",
      "Requirement already satisfied: typing-extensions>=4.6 in d:\\development\\ec-scrape-kalvium\\.conda\\lib\\site-packages (from ipython>=6.1.0->ipywidgets) (4.12.2)\n",
      "Requirement already satisfied: colorama in d:\\development\\ec-scrape-kalvium\\.conda\\lib\\site-packages (from ipython>=6.1.0->ipywidgets) (0.4.6)\n",
      "Requirement already satisfied: parso<0.9.0,>=0.8.3 in d:\\development\\ec-scrape-kalvium\\.conda\\lib\\site-packages (from jedi>=0.16->ipython>=6.1.0->ipywidgets) (0.8.4)\n",
      "Requirement already satisfied: wcwidth in d:\\development\\ec-scrape-kalvium\\.conda\\lib\\site-packages (from prompt-toolkit<3.1.0,>=3.0.41->ipython>=6.1.0->ipywidgets) (0.2.13)\n",
      "Requirement already satisfied: executing>=1.2.0 in d:\\development\\ec-scrape-kalvium\\.conda\\lib\\site-packages (from stack-data->ipython>=6.1.0->ipywidgets) (2.0.1)\n",
      "Requirement already satisfied: asttokens>=2.1.0 in d:\\development\\ec-scrape-kalvium\\.conda\\lib\\site-packages (from stack-data->ipython>=6.1.0->ipywidgets) (2.4.1)\n",
      "Requirement already satisfied: pure-eval in d:\\development\\ec-scrape-kalvium\\.conda\\lib\\site-packages (from stack-data->ipython>=6.1.0->ipywidgets) (0.2.2)\n",
      "Requirement already satisfied: six>=1.12.0 in d:\\development\\ec-scrape-kalvium\\.conda\\lib\\site-packages (from asttokens>=2.1.0->stack-data->ipython>=6.1.0->ipywidgets) (1.16.0)\n",
      "Note: you may need to restart the kernel to use updated packages.\n"
     ]
    },
    {
     "name": "stderr",
     "output_type": "stream",
     "text": [
      "WARNING: Ignoring invalid distribution ~weetviz (d:\\Development\\ec-scrape-kalvium\\.conda\\Lib\\site-packages)\n",
      "WARNING: Ignoring invalid distribution ~weetviz (d:\\Development\\ec-scrape-kalvium\\.conda\\Lib\\site-packages)\n"
     ]
    },
    {
     "name": "stdout",
     "output_type": "stream",
     "text": [
      "Requirement already satisfied: pandas-profiling in d:\\development\\ec-scrape-kalvium\\.conda\\lib\\site-packages (3.2.0)Note: you may need to restart the kernel to use updated packages.\n",
      "\n",
      "Requirement already satisfied: joblib~=1.1.0 in d:\\development\\ec-scrape-kalvium\\.conda\\lib\\site-packages (from pandas-profiling) (1.1.1)\n",
      "Requirement already satisfied: scipy>=1.4.1 in d:\\development\\ec-scrape-kalvium\\.conda\\lib\\site-packages (from pandas-profiling) (1.13.1)\n",
      "Requirement already satisfied: pandas!=1.0.0,!=1.0.1,!=1.0.2,!=1.1.0,>=0.25.3 in d:\\development\\ec-scrape-kalvium\\.conda\\lib\\site-packages (from pandas-profiling) (2.2.2)\n",
      "Requirement already satisfied: matplotlib>=3.2.0 in d:\\development\\ec-scrape-kalvium\\.conda\\lib\\site-packages (from pandas-profiling) (3.8.4)\n",
      "Requirement already satisfied: pydantic>=1.8.1 in d:\\development\\ec-scrape-kalvium\\.conda\\lib\\site-packages (from pandas-profiling) (2.7.4)\n",
      "Requirement already satisfied: PyYAML>=5.0.0 in d:\\development\\ec-scrape-kalvium\\.conda\\lib\\site-packages (from pandas-profiling) (6.0.1)\n",
      "Requirement already satisfied: jinja2>=2.11.1 in d:\\development\\ec-scrape-kalvium\\.conda\\lib\\site-packages (from pandas-profiling) (3.1.4)\n",
      "Requirement already satisfied: markupsafe~=2.1.1 in d:\\development\\ec-scrape-kalvium\\.conda\\lib\\site-packages (from pandas-profiling) (2.1.5)\n",
      "Requirement already satisfied: visions==0.7.4 in d:\\development\\ec-scrape-kalvium\\.conda\\lib\\site-packages (from visions[type_image_path]==0.7.4->pandas-profiling) (0.7.4)\n",
      "Requirement already satisfied: numpy>=1.16.0 in d:\\development\\ec-scrape-kalvium\\.conda\\lib\\site-packages (from pandas-profiling) (1.26.4)\n",
      "Requirement already satisfied: htmlmin>=0.1.12 in d:\\development\\ec-scrape-kalvium\\.conda\\lib\\site-packages (from pandas-profiling) (0.1.12)\n",
      "Requirement already satisfied: missingno>=0.4.2 in d:\\development\\ec-scrape-kalvium\\.conda\\lib\\site-packages (from pandas-profiling) (0.5.2)\n",
      "Requirement already satisfied: phik>=0.11.1 in d:\\development\\ec-scrape-kalvium\\.conda\\lib\\site-packages (from pandas-profiling) (0.12.4)\n",
      "Requirement already satisfied: tangled-up-in-unicode==0.2.0 in d:\\development\\ec-scrape-kalvium\\.conda\\lib\\site-packages (from pandas-profiling) (0.2.0)\n",
      "Requirement already satisfied: requests>=2.24.0 in d:\\development\\ec-scrape-kalvium\\.conda\\lib\\site-packages (from pandas-profiling) (2.32.3)\n",
      "Requirement already satisfied: tqdm>=4.48.2 in d:\\development\\ec-scrape-kalvium\\.conda\\lib\\site-packages (from pandas-profiling) (4.66.4)\n",
      "Requirement already satisfied: seaborn>=0.10.1 in d:\\development\\ec-scrape-kalvium\\.conda\\lib\\site-packages (from pandas-profiling) (0.13.2)\n",
      "Requirement already satisfied: multimethod>=1.4 in d:\\development\\ec-scrape-kalvium\\.conda\\lib\\site-packages (from pandas-profiling) (1.11.2)\n",
      "Requirement already satisfied: attrs>=19.3.0 in d:\\development\\ec-scrape-kalvium\\.conda\\lib\\site-packages (from visions==0.7.4->visions[type_image_path]==0.7.4->pandas-profiling) (23.2.0)\n",
      "Requirement already satisfied: networkx>=2.4 in d:\\development\\ec-scrape-kalvium\\.conda\\lib\\site-packages (from visions==0.7.4->visions[type_image_path]==0.7.4->pandas-profiling) (3.3)\n",
      "Requirement already satisfied: imagehash in d:\\development\\ec-scrape-kalvium\\.conda\\lib\\site-packages (from visions[type_image_path]==0.7.4->pandas-profiling) (4.3.1)\n",
      "Requirement already satisfied: Pillow in d:\\development\\ec-scrape-kalvium\\.conda\\lib\\site-packages (from visions[type_image_path]==0.7.4->pandas-profiling) (10.3.0)\n",
      "Requirement already satisfied: contourpy>=1.0.1 in d:\\development\\ec-scrape-kalvium\\.conda\\lib\\site-packages (from matplotlib>=3.2.0->pandas-profiling) (1.2.1)\n",
      "Requirement already satisfied: cycler>=0.10 in d:\\development\\ec-scrape-kalvium\\.conda\\lib\\site-packages (from matplotlib>=3.2.0->pandas-profiling) (0.12.1)\n",
      "Requirement already satisfied: fonttools>=4.22.0 in d:\\development\\ec-scrape-kalvium\\.conda\\lib\\site-packages (from matplotlib>=3.2.0->pandas-profiling) (4.53.0)\n",
      "Requirement already satisfied: kiwisolver>=1.3.1 in d:\\development\\ec-scrape-kalvium\\.conda\\lib\\site-packages (from matplotlib>=3.2.0->pandas-profiling) (1.4.5)\n",
      "Requirement already satisfied: packaging>=20.0 in d:\\development\\ec-scrape-kalvium\\.conda\\lib\\site-packages (from matplotlib>=3.2.0->pandas-profiling) (24.1)\n",
      "Requirement already satisfied: pyparsing>=2.3.1 in d:\\development\\ec-scrape-kalvium\\.conda\\lib\\site-packages (from matplotlib>=3.2.0->pandas-profiling) (3.1.2)\n",
      "Requirement already satisfied: python-dateutil>=2.7 in d:\\development\\ec-scrape-kalvium\\.conda\\lib\\site-packages (from matplotlib>=3.2.0->pandas-profiling) (2.9.0)\n",
      "Requirement already satisfied: pytz>=2020.1 in d:\\development\\ec-scrape-kalvium\\.conda\\lib\\site-packages (from pandas!=1.0.0,!=1.0.1,!=1.0.2,!=1.1.0,>=0.25.3->pandas-profiling) (2024.1)\n",
      "Requirement already satisfied: tzdata>=2022.7 in d:\\development\\ec-scrape-kalvium\\.conda\\lib\\site-packages (from pandas!=1.0.0,!=1.0.1,!=1.0.2,!=1.1.0,>=0.25.3->pandas-profiling) (2024.1)\n",
      "Requirement already satisfied: annotated-types>=0.4.0 in d:\\development\\ec-scrape-kalvium\\.conda\\lib\\site-packages (from pydantic>=1.8.1->pandas-profiling) (0.7.0)\n",
      "Requirement already satisfied: pydantic-core==2.18.4 in d:\\development\\ec-scrape-kalvium\\.conda\\lib\\site-packages (from pydantic>=1.8.1->pandas-profiling) (2.18.4)\n",
      "Requirement already satisfied: typing-extensions>=4.6.1 in d:\\development\\ec-scrape-kalvium\\.conda\\lib\\site-packages (from pydantic>=1.8.1->pandas-profiling) (4.12.2)\n",
      "Requirement already satisfied: charset-normalizer<4,>=2 in d:\\development\\ec-scrape-kalvium\\.conda\\lib\\site-packages (from requests>=2.24.0->pandas-profiling) (3.3.2)\n",
      "Requirement already satisfied: idna<4,>=2.5 in d:\\development\\ec-scrape-kalvium\\.conda\\lib\\site-packages (from requests>=2.24.0->pandas-profiling) (3.7)\n",
      "Requirement already satisfied: urllib3<3,>=1.21.1 in d:\\development\\ec-scrape-kalvium\\.conda\\lib\\site-packages (from requests>=2.24.0->pandas-profiling) (2.2.2)\n",
      "Requirement already satisfied: certifi>=2017.4.17 in d:\\development\\ec-scrape-kalvium\\.conda\\lib\\site-packages (from requests>=2.24.0->pandas-profiling) (2024.6.2)\n",
      "Requirement already satisfied: colorama in d:\\development\\ec-scrape-kalvium\\.conda\\lib\\site-packages (from tqdm>=4.48.2->pandas-profiling) (0.4.6)\n",
      "Requirement already satisfied: six>=1.5 in d:\\development\\ec-scrape-kalvium\\.conda\\lib\\site-packages (from python-dateutil>=2.7->matplotlib>=3.2.0->pandas-profiling) (1.16.0)\n",
      "Requirement already satisfied: PyWavelets in d:\\development\\ec-scrape-kalvium\\.conda\\lib\\site-packages (from imagehash->visions[type_image_path]==0.7.4->pandas-profiling) (1.6.0)\n"
     ]
    },
    {
     "name": "stderr",
     "output_type": "stream",
     "text": [
      "WARNING: Ignoring invalid distribution ~weetviz (d:\\Development\\ec-scrape-kalvium\\.conda\\Lib\\site-packages)\n",
      "WARNING: Ignoring invalid distribution ~weetviz (d:\\Development\\ec-scrape-kalvium\\.conda\\Lib\\site-packages)\n"
     ]
    },
    {
     "name": "stdout",
     "output_type": "stream",
     "text": [
      "Requirement already satisfied: numba==0.58.1 in d:\\development\\ec-scrape-kalvium\\.conda\\lib\\site-packages (0.58.1)\n",
      "Requirement already satisfied: llvmlite<0.42,>=0.41.0dev0 in d:\\development\\ec-scrape-kalvium\\.conda\\lib\\site-packages (from numba==0.58.1) (0.41.1)\n",
      "Requirement already satisfied: numpy<1.27,>=1.22 in d:\\development\\ec-scrape-kalvium\\.conda\\lib\\site-packages (from numba==0.58.1) (1.26.4)\n",
      "Note: you may need to restart the kernel to use updated packages.\n"
     ]
    },
    {
     "name": "stderr",
     "output_type": "stream",
     "text": [
      "WARNING: Ignoring invalid distribution ~weetviz (d:\\Development\\ec-scrape-kalvium\\.conda\\Lib\\site-packages)\n",
      "WARNING: Ignoring invalid distribution ~weetviz (d:\\Development\\ec-scrape-kalvium\\.conda\\Lib\\site-packages)\n"
     ]
    },
    {
     "name": "stdout",
     "output_type": "stream",
     "text": [
      "Requirement already satisfied: seaborn in d:\\development\\ec-scrape-kalvium\\.conda\\lib\\site-packages (0.13.2)\n",
      "Requirement already satisfied: numpy!=1.24.0,>=1.20 in d:\\development\\ec-scrape-kalvium\\.conda\\lib\\site-packages (from seaborn) (1.26.4)\n",
      "Requirement already satisfied: pandas>=1.2 in d:\\development\\ec-scrape-kalvium\\.conda\\lib\\site-packages (from seaborn) (2.2.2)\n",
      "Requirement already satisfied: matplotlib!=3.6.1,>=3.4 in d:\\development\\ec-scrape-kalvium\\.conda\\lib\\site-packages (from seaborn) (3.8.4)\n",
      "Requirement already satisfied: contourpy>=1.0.1 in d:\\development\\ec-scrape-kalvium\\.conda\\lib\\site-packages (from matplotlib!=3.6.1,>=3.4->seaborn) (1.2.1)\n",
      "Requirement already satisfied: cycler>=0.10 in d:\\development\\ec-scrape-kalvium\\.conda\\lib\\site-packages (from matplotlib!=3.6.1,>=3.4->seaborn) (0.12.1)\n",
      "Requirement already satisfied: fonttools>=4.22.0 in d:\\development\\ec-scrape-kalvium\\.conda\\lib\\site-packages (from matplotlib!=3.6.1,>=3.4->seaborn) (4.53.0)\n",
      "Requirement already satisfied: kiwisolver>=1.3.1 in d:\\development\\ec-scrape-kalvium\\.conda\\lib\\site-packages (from matplotlib!=3.6.1,>=3.4->seaborn) (1.4.5)\n",
      "Requirement already satisfied: packaging>=20.0 in d:\\development\\ec-scrape-kalvium\\.conda\\lib\\site-packages (from matplotlib!=3.6.1,>=3.4->seaborn) (24.1)\n",
      "Requirement already satisfied: pillow>=8 in d:\\development\\ec-scrape-kalvium\\.conda\\lib\\site-packages (from matplotlib!=3.6.1,>=3.4->seaborn) (10.3.0)\n",
      "Requirement already satisfied: pyparsing>=2.3.1 in d:\\development\\ec-scrape-kalvium\\.conda\\lib\\site-packages (from matplotlib!=3.6.1,>=3.4->seaborn) (3.1.2)\n",
      "Requirement already satisfied: python-dateutil>=2.7 in d:\\development\\ec-scrape-kalvium\\.conda\\lib\\site-packages (from matplotlib!=3.6.1,>=3.4->seaborn) (2.9.0)\n",
      "Requirement already satisfied: pytz>=2020.1 in d:\\development\\ec-scrape-kalvium\\.conda\\lib\\site-packages (from pandas>=1.2->seaborn) (2024.1)\n",
      "Requirement already satisfied: tzdata>=2022.7 in d:\\development\\ec-scrape-kalvium\\.conda\\lib\\site-packages (from pandas>=1.2->seaborn) (2024.1)\n",
      "Requirement already satisfied: six>=1.5 in d:\\development\\ec-scrape-kalvium\\.conda\\lib\\site-packages (from python-dateutil>=2.7->matplotlib!=3.6.1,>=3.4->seaborn) (1.16.0)\n",
      "Note: you may need to restart the kernel to use updated packages.\n"
     ]
    },
    {
     "name": "stderr",
     "output_type": "stream",
     "text": [
      "WARNING: Ignoring invalid distribution ~weetviz (d:\\Development\\ec-scrape-kalvium\\.conda\\Lib\\site-packages)\n",
      "WARNING: Ignoring invalid distribution ~weetviz (d:\\Development\\ec-scrape-kalvium\\.conda\\Lib\\site-packages)\n"
     ]
    }
   ],
   "source": [
    "%pip install sweetviz\n",
    "%pip install numpy\n",
    "%pip install ipywidgets\n",
    "%pip install pandas-profiling\n",
    "%pip install numba==0.58.1\n",
    "\n",
    "%pip install seaborn"
   ]
  },
  {
   "cell_type": "code",
   "execution_count": 11,
   "metadata": {},
   "outputs": [
    {
     "data": {
      "text/html": [
       "<div>\n",
       "<style scoped>\n",
       "    .dataframe tbody tr th:only-of-type {\n",
       "        vertical-align: middle;\n",
       "    }\n",
       "\n",
       "    .dataframe tbody tr th {\n",
       "        vertical-align: top;\n",
       "    }\n",
       "\n",
       "    .dataframe thead th {\n",
       "        text-align: right;\n",
       "    }\n",
       "</style>\n",
       "<table border=\"1\" class=\"dataframe\">\n",
       "  <thead>\n",
       "    <tr style=\"text-align: right;\">\n",
       "      <th></th>\n",
       "      <th>Party Name</th>\n",
       "      <th>Shortform</th>\n",
       "      <th>Winning Seats</th>\n",
       "    </tr>\n",
       "  </thead>\n",
       "  <tbody>\n",
       "    <tr>\n",
       "      <th>0</th>\n",
       "      <td>Bharatiya Janata Party</td>\n",
       "      <td>BJP</td>\n",
       "      <td>240</td>\n",
       "    </tr>\n",
       "    <tr>\n",
       "      <th>1</th>\n",
       "      <td>Indian National Congress</td>\n",
       "      <td>INC</td>\n",
       "      <td>99</td>\n",
       "    </tr>\n",
       "    <tr>\n",
       "      <th>2</th>\n",
       "      <td>Samajwadi Party</td>\n",
       "      <td>SP</td>\n",
       "      <td>37</td>\n",
       "    </tr>\n",
       "    <tr>\n",
       "      <th>3</th>\n",
       "      <td>All India Trinamool Congress</td>\n",
       "      <td>AITC</td>\n",
       "      <td>29</td>\n",
       "    </tr>\n",
       "    <tr>\n",
       "      <th>4</th>\n",
       "      <td>Dravida Munnetra Kazhagam</td>\n",
       "      <td>DMK</td>\n",
       "      <td>22</td>\n",
       "    </tr>\n",
       "  </tbody>\n",
       "</table>\n",
       "</div>"
      ],
      "text/plain": [
       "                     Party Name Shortform  Winning Seats\n",
       "0        Bharatiya Janata Party       BJP            240\n",
       "1      Indian National Congress       INC             99\n",
       "2               Samajwadi Party        SP             37\n",
       "3  All India Trinamool Congress      AITC             29\n",
       "4     Dravida Munnetra Kazhagam       DMK             22"
      ]
     },
     "execution_count": 11,
     "metadata": {},
     "output_type": "execute_result"
    }
   ],
   "source": [
    "import pandas\n",
    " \n",
    "data = pandas.read_csv(\"data/total-party-results.csv\")\n",
    "data.head()"
   ]
  },
  {
   "cell_type": "code",
   "execution_count": 13,
   "metadata": {},
   "outputs": [
    {
     "name": "stderr",
     "output_type": "stream",
     "text": [
      "C:\\Users\\mojitrk\\AppData\\Local\\Temp\\ipykernel_18284\\308983697.py:13: UserWarning: \n",
      "\n",
      "`distplot` is a deprecated function and will be removed in seaborn v0.14.0.\n",
      "\n",
      "Please adapt your code to use either `displot` (a figure-level function with\n",
      "similar flexibility) or `histplot` (an axes-level function for histograms).\n",
      "\n",
      "For a guide to updating your code to use the new functions, please see\n",
      "https://gist.github.com/mwaskom/de44147ed2974457ad6372750bbe5751\n",
      "\n",
      "  sns.distplot(d, kde = True, color = \"g\")\n",
      "Feature: Winning Seats                       |███████▌  | [ 75%]   10:14 -> (03:24 left)\n"
     ]
    },
    {
     "data": {
      "text/plain": [
       "<Axes: ylabel='Density'>"
      ]
     },
     "execution_count": 13,
     "metadata": {},
     "output_type": "execute_result"
    },
    {
     "data": {
      "image/png": "[encoded data removed]",
      "text/plain": [
       "<Figure size 640x480 with 1 Axes>"
      ]
     },
     "metadata": {},
     "output_type": "display_data"
    }
   ],
   "source": [
    "import numpy as np \n",
    "import seaborn as sns \n",
    "\n",
    "sns.set( style = \"white\" ) \n",
    "   \n",
    "# Generate a random univariate  \n",
    "# dataset \n",
    "rs = np.random.RandomState( 10 ) \n",
    "d = rs.normal( size = 50 ) \n",
    "   \n",
    "# Plot a simple histogram and kde  \n",
    "# with binsize determined automatically \n",
    "sns.distplot(d, kde = True, color = \"g\")"
   ]
  }
 ],
 "metadata": {
  "kernelspec": {
   "display_name": "Python 3",
   "language": "python",
   "name": "python3"
  },
  "language_info": {
   "codemirror_mode": {
    "name": "ipython",
    "version": 3
   },
   "file_extension": ".py",
   "mimetype": "text/x-python",
   "name": "python",
   "nbconvert_exporter": "python",
   "pygments_lexer": "ipython3",
   "version": "3.11.9"
  }
 },
 "nbformat": 4,
 "nbformat_minor": 2
}
